{
 "cells": [
  {
   "cell_type": "markdown",
   "metadata": {
    "slideshow": {
     "slide_type": "slide"
    }
   },
   "source": [
    "<h1 style=\"text-align: center;font-size:3em\"> An introduction to gradient descent algorithms </h1>        "
   ]
  },
  {
   "cell_type": "markdown",
   "metadata": {
    "slideshow": {
     "slide_type": "slide"
    }
   },
   "source": [
    "<h1 style=\"text-align: center;\"> Linear Regression </h1>"
   ]
  },
  {
   "cell_type": "markdown",
   "metadata": {
    "slideshow": {
     "slide_type": "subslide"
    }
   },
   "source": [
    "<h2 style=\"text-align: center;\"> Principle </h2>\n",
    "\n",
    "**Linear regression** algorithms are used for prediction purposes. An affine linear model makes a prediction by simply computing a weighted sum of the input features, plus a constant called the **bias term** (or **intercept term**)\n",
    "\n",
    "$$\n",
    "\\hat y = \\theta_0 +\\theta_1 x_1 +\\theta_2 x_2 +\\dots+ \\theta_n x_n\n",
    " = \\theta \\cdot {\\bf x}  = h_\\theta({\\bf x}).\n",
    "$$"
   ]
  },
  {
   "cell_type": "markdown",
   "metadata": {
    "slideshow": {
     "slide_type": "fragment"
    }
   },
   "source": [
    "where \n",
    "$$\n",
    "\\theta := (\\theta_0,\\dots,\\theta_n)^T, \\quad\\quad {\\bf x}:=(x_0,x_1,\\dots,x_n)^T,\\quad x_0=1.\n",
    "$$\n",
    " - $n$ is the number of features.\n",
    " - $x_i$ is the $i^{th}$ feature value.\n",
    " - $h_\\theta$ is the hypothesis function, using the model parameters $\\theta$.\n",
    " - $\\hat y$ is the predicted value.\n",
    " "
   ]
  },
  {
   "cell_type": "markdown",
   "metadata": {
    "slideshow": {
     "slide_type": "subslide"
    }
   },
   "source": [
    "<h2 style=\"text-align: center;\"> Loss function </h2>\n",
    "\n",
    "The MSE loss function of a linear regression hypothesis $h_\\theta$ on a training set $\\{(x^{(1)},y^{(1)}),\\dots,(x^{(m)},y^{(m)})\\} \\subset \\mathbb R^n \\times \\mathbb R$ is calculated by\n",
    "\n",
    "$$\n",
    "J(\\theta) = MSE(X,h_\\theta) = \\frac 1{m} \\sum_{i=1}^m ( h_\\theta({\\bf x}^{(i)}) - y^{(i)} )^2\n",
    "$$"
   ]
  },
  {
   "cell_type": "markdown",
   "metadata": {
    "slideshow": {
     "slide_type": "fragment"
    }
   },
   "source": [
    "<h2 style=\"text-align: center;\"> Gradient computation </h2>\n",
    "For $j=0,\\dots,n$, the partial derivatives of $J$ with respect to $\\theta_j$ is \n",
    "\n",
    "$$\n",
    "\\frac{\\partial J}{\\partial \\theta_j}(\\theta)=\\frac 1m\\sum_{i=1}^m 2 x_j^{(i)} ( h_\\theta({\\bf x}^{(i)}) - y^{(i)} )\n",
    "$$\n",
    "\n",
    "If we introduce \n",
    "\n",
    "$$\n",
    "X := (x^{(i)}_j)_{\\substack{ 1 \\leq i \\leq m\\\\  0 \\leq j \\leq n}}\n",
    "\\in {\\mathbb R}^{m \\times (n+1)},\\quad\\quad \\quad \n",
    "Y :=(y^{(1)},\\dots,y^{(m)})^T \\in \\mathbb R^m\n",
    "$$"
   ]
  },
  {
   "cell_type": "markdown",
   "metadata": {
    "slideshow": {
     "slide_type": "fragment"
    }
   },
   "source": [
    "We can write $\\theta \\mapsto J(\\theta)$ and \n",
    "$\\theta \\mapsto \\nabla J(\\theta):=\n",
    "\\big(\\frac{\\partial J}{\\partial \\theta_0}(\\theta),\\dots\n",
    "\\frac{\\partial J}{\\partial \\theta_n}(\\theta) \\big)^T$\n",
    "using matrices and vectors \n",
    "\n",
    "$$\n",
    "J(\\theta)=\n",
    "\\frac 1m \\|X\\theta-Y\\|^2,\\quad \\quad \\quad \\quad \n",
    "\\nabla J(\\theta):=\n",
    "\\frac 1m\n",
    "2 X^T (X\\theta - Y) \n",
    "$$"
   ]
  },
  {
   "cell_type": "markdown",
   "metadata": {
    "slideshow": {
     "slide_type": "subslide"
    }
   },
   "source": [
    "<h2 style=\"text-align: center;\"> Batch gradient descent </h2>\n",
    "\n",
    "\n",
    "The **Batch gradient descent** algorithm is given by \n",
    "\n",
    "$$\n",
    "\\theta^{(0)} \\mbox{ initial guess},\\quad \\quad\\quad \n",
    "\\theta^{(k+1)}= \\theta^{(k)} - \\eta \\nabla J(\\theta^{(k)})\n",
    "$$\n",
    "\n",
    "The whole **batch** $X$ of training data is used at every step."
   ]
  },
  {
   "cell_type": "markdown",
   "metadata": {
    "slideshow": {
     "slide_type": "subslide"
    }
   },
   "source": [
    "The loss function is quadratic in $\\theta$ (hence **convex**) and clearly ***L***-**smooth** with \n",
    "\n",
    "$$\n",
    "L=\\frac 2m\\|X^{T}X\\|_{2\\to2}= \\frac 2m s_1(X)^2\n",
    "$$ \n",
    "\n",
    "where $s_1(X)$ is the largest singular value of $X$. Batch gradient descent with Learning rate $\\eta<1/L$ converge to $\\theta^*$ which minimizes $J$.  "
   ]
  },
  {
   "cell_type": "markdown",
   "metadata": {
    "slideshow": {
     "slide_type": "fragment"
    }
   },
   "source": [
    "Observe also that $J$ is minimized at $\\theta^*$ for which $\\nabla J(\\theta^*)=0$. Hence,\n",
    "$\\theta^*$ is solution of the normal equation\n",
    "\n",
    "$$\n",
    "\\theta^* =  (X^T X)^{-1} X^TY \n",
    "$$"
   ]
  },
  {
   "cell_type": "code",
   "execution_count": 7,
   "metadata": {
    "slideshow": {
     "slide_type": "subslide"
    }
   },
   "outputs": [
    {
     "name": "stdout",
     "output_type": "stream",
     "text": [
      "theta_best= [[1.98331783]\n",
      " [4.97826472]]\n"
     ]
    },
    {
     "data": {
      "image/png": "[encoded data removed]",
      "text/plain": [
       "<Figure size 432x288 with 1 Axes>"
      ]
     },
     "metadata": {
      "needs_background": "light"
     },
     "output_type": "display_data"
    }
   ],
   "source": [
    "## Direct computation using normal equation\n",
    "%matplotlib inline\n",
    "import numpy as np\n",
    "import matplotlib.pyplot as plt\n",
    "n,m = 1,200\n",
    "x = 2* np.random.rand(m, n)\n",
    "y = 2 + 5 * x + 0.5* np.random.randn(m, n) ## thus theta0= 2 , theta1=5\n",
    "plt.scatter(x, y)\n",
    "X_b = np.c_[np.ones((m, n)), x] # add x0 = 1 to each instance\n",
    "theta_best = np.linalg.inv(X_b.T.dot(X_b)).dot(X_b.T).dot(y)\n",
    "plt.plot([0,2],[theta_best[0],theta_best[0]+2*theta_best[1]],color='r')\n",
    "print ('theta_best=',theta_best)\n",
    "plt.show()"
   ]
  },
  {
   "cell_type": "code",
   "execution_count": 8,
   "metadata": {
    "slideshow": {
     "slide_type": "subslide"
    }
   },
   "outputs": [
    {
     "name": "stdout",
     "output_type": "stream",
     "text": [
      "The local minimum occurs at [[1.99344927]\n",
      " [4.96976563]]\n",
      "The local minimum is equal to 0.035080866913785244\n"
     ]
    }
   ],
   "source": [
    "## gradient descent applied to the function J: theta -> J (theta) ##\n",
    "def val_f (theta):\n",
    "    return (1./m)*np.linalg.norm(X_b.dot(theta) - y) \n",
    "def grad_f (theta):\n",
    "    return (2./m)*X_b.T.dot(X_b.dot(theta) - y)\n",
    "x0 = np.zeros((2, 1))      # The algorithm starts at x0=(0,0)\n",
    "\n",
    "s1 = np.linalg.norm(X_b, ord=2) ## Largest singular value of X_b\n",
    "L = (2/m)*s1*s1            # L for L-smoothness\n",
    "rate = 1./L                # Learning rate\n",
    "precision = 0.001          # This tells us when to stop the algorithm\n",
    "step_size = 1              # step being taken\n",
    "max_iters = 4000           # maximum number of iterations\n",
    "iters = 0                  #iteration counter\n",
    "\n",
    "vec_x,vec_f  = [],[]\n",
    "cur_x = x0\n",
    "while step_size > precision and iters < max_iters:\n",
    "    vec_x = vec_x+[cur_x]\n",
    "    vec_f = vec_f+[val_f(cur_x)]\n",
    "    prev_x = cur_x                        #Store current x value in prev_x\n",
    "    cur_x = cur_x - rate * grad_f(prev_x) #Gradien descent\n",
    "    step_size = np.linalg.norm(cur_x - prev_x)   #Change in x\n",
    "    iters = iters+1 #iteration count\n",
    "print(\"The local minimum occurs at\", vec_x[-1])\n",
    "print(\"The local minimum is equal to\", vec_f[-1])"
   ]
  },
  {
   "cell_type": "code",
   "execution_count": 9,
   "metadata": {
    "code_folding": [],
    "slideshow": {
     "slide_type": "subslide"
    }
   },
   "outputs": [
    {
     "data": {
      "image/png": "[encoded data removed]",
      "text/plain": [
       "<Figure size 600x400 with 1 Axes>"
      ]
     },
     "metadata": {
      "needs_background": "light"
     },
     "output_type": "display_data"
    }
   ],
   "source": [
    "## Animation based on gradient descent applied for linear regression ##\n",
    "\n",
    "import numpy as np\n",
    "from matplotlib import pyplot as plt\n",
    "from matplotlib.pyplot import figure\n",
    "from matplotlib import animation, rc\n",
    "\n",
    "#%matplotlib inline\n",
    "#matplotlib notebook\n",
    "#%matplotlib nbagg\n",
    "%matplotlib tk\n",
    "\n",
    "# First set up the figure, the axis, and the plot element we want to animate\n",
    "\n",
    "fig = plt.figure()\n",
    "fig.set_dpi(100)\n",
    "\n",
    "xmin,xmax = 0, 2\n",
    "fmin,fmax = 1,14\n",
    "\n",
    "ax  = plt.axes(xlim=(xmin, xmax), ylim=(fmin, fmax))\n",
    "line, = ax.plot([], [], lw=2,color='r')\n",
    "\n",
    "# initialization function: plot the background of each frame\n",
    "def init():\n",
    "    plt.scatter(x, y,color='b')\n",
    "    line.set_data([], [])\n",
    "    return line,\n",
    "\n",
    "# animation function.  This is called sequentially\n",
    "def animate(i):\n",
    "    a = [0,2]\n",
    "    theta= vec_x[i] \n",
    "    b = [theta[0],theta[0]+2*theta[1]]\n",
    "    line.set_data(a, b)\n",
    "    return line,\n",
    "\n",
    "# call the animator.  blit=True means only re-draw the parts that have changed.\n",
    "anim = animation.FuncAnimation(fig, \n",
    "                               animate, \n",
    "                               init_func=init,\n",
    "                               frames=50, \n",
    "                               interval=50, \n",
    "                               blit=True)\n",
    "\n",
    "# save the animation as an mp4.  This requires ffmpeg or mencoder to be\n",
    "# installed.  The extra_args ensure that the x264 codec is used, so that\n",
    "# the video can be embedded in html5.  You may need to adjust this for\n",
    "# your system: for more information, see\n",
    "# http://matplotlib.sourceforge.net/api/animation_api.html\n",
    "\n",
    "#HTML(anim.to_html5_video())\n",
    "\n",
    "from IPython.display import HTML\n",
    "anim.save('GD_converge.mp4', fps=5, extra_args=['-vcodec', 'h264', '-pix_fmt', 'yuv420p'])\n",
    "plt.show()"
   ]
  },
  {
   "cell_type": "markdown",
   "metadata": {
    "slideshow": {
     "slide_type": "subslide"
    }
   },
   "source": [
    "### Variants:  interpretability, etc\n",
    "- Lasso regression\n",
    "$$\n",
    "J(\\theta) = \\frac 1m \\|X\\theta-Y\\|^2 + \\lambda \\|\\theta\\|_1\n",
    "$$\n",
    "- Ridge regression\n",
    "$$\n",
    "J(\\theta) = \\frac 1m \\|X\\theta-Y\\|^2 + \\|\\Gamma \\theta\\|^2\n",
    "$$\n",
    "\n"
   ]
  },
  {
   "cell_type": "markdown",
   "metadata": {
    "slideshow": {
     "slide_type": "fragment"
    }
   },
   "source": [
    "# Pros and cons\n",
    "\n",
    "- **Batch Gradient Descent** scales well with the number of features\n",
    "However,\n",
    "- **Batch Gradient Descent** can be terribly slow on very large training sets \n",
    "($\\Longrightarrow$ **Gradient Descent algorithms**). \n"
   ]
  },
  {
   "cell_type": "markdown",
   "metadata": {
    "slideshow": {
     "slide_type": "notes"
    }
   },
   "source": [
    "- it is much faster to use  Gradient Descent than to use the Normal Equation for training a Linear Regression model for hundreds of thousands of features "
   ]
  },
  {
   "cell_type": "markdown",
   "metadata": {
    "slideshow": {
     "slide_type": "slide"
    }
   },
   "source": [
    "<h1 style=\"text-align: center;\"> Stochastic Gradient Descent </h1>"
   ]
  },
  {
   "cell_type": "markdown",
   "metadata": {
    "slideshow": {
     "slide_type": "subslide"
    }
   },
   "source": [
    "We are interested in minimizing the **additive** loss function  \n",
    "\n",
    "$$\n",
    "J(\\theta) = \\sum_{i=1}^m J_i(\\theta),\\quad\\quad\\quad J_i(\\theta):= ( h_\\theta({\\bf x}^{(i)}) - y^{(i)} )^2\n",
    "$$"
   ]
  },
  {
   "cell_type": "markdown",
   "metadata": {
    "slideshow": {
     "slide_type": "fragment"
    }
   },
   "source": [
    "One random instance $\\{(x^{(\\omega)},y^{(\\omega)})\\}$ in the training set is picked at every step $k$ and the gradient is computed based only on this instance. This gradient is $\\nabla J_\\omega(\\theta) = \\nabla_\\theta J_\\omega(\\theta)$ and is equal to\n",
    "\n",
    "$$\n",
    "\\nabla J_\\omega(\\theta):=\n",
    "2 (h_\\theta({\\bf x}^{(\\omega)}) - y^{(\\omega)}) {\\bf x}^{(\\omega)}.\n",
    "$$"
   ]
  },
  {
   "cell_type": "markdown",
   "metadata": {
    "slideshow": {
     "slide_type": "subslide"
    }
   },
   "source": [
    "The **Stochastic Gradient Descent** (SGD) algorithm for MSE minimization in linear regression is given by \n",
    "\n",
    "$$\n",
    "\\theta^{(0)} \\mbox{ initial guess},\\quad \\quad\\quad  \n",
    "\\left\\{\\begin{array}{}\n",
    "{\\omega} \\mbox{ randomly selected in} \\{1,2,\\dots,n\\} \\\\\n",
    "\\theta^{(k+1)}= \\theta^{(k)} - \\eta \\nabla J_{\\omega}(\\theta^{(k)})\n",
    "\\end{array}\n",
    "\\right.\n",
    "\\quad\\quad\\quad k\\geq0.\n",
    "$$\n",
    "\n",
    "Only one random instance $\\{(x^{(\\omega)},y^{(\\omega)})\\}$ of training data $X$ is used at every step."
   ]
  },
  {
   "cell_type": "markdown",
   "metadata": {
    "slideshow": {
     "slide_type": "fragment"
    }
   },
   "source": [
    "- Every step $k$ of the algorithm is much faster. \n",
    "- This makes it possible to train on large training sets.\n"
   ]
  },
  {
   "cell_type": "code",
   "execution_count": 10,
   "metadata": {
    "slideshow": {
     "slide_type": "subslide"
    }
   },
   "outputs": [
    {
     "name": "stdout",
     "output_type": "stream",
     "text": [
      "[[1.97779774]\n",
      " [4.97149486]]\n"
     ]
    }
   ],
   "source": [
    "n_epochs = 50\n",
    "t0, t1 = 5, 50 # learning schedule hyperparameters\n",
    "def learning_schedule(t): \n",
    "    return t0/(t+t1)\n",
    "    \n",
    "theta = np.random.randn(2,1) # random initialization\n",
    "for epoch in range(n_epochs): \n",
    "    for i in range(m):\n",
    "        random_index = np.random.randint(m)\n",
    "        xi = X_b[random_index:random_index+1]\n",
    "        yi = y[random_index:random_index+1]\n",
    "        gradients = 2 * xi.T.dot(xi.dot(theta) - yi)\n",
    "        eta = learning_schedule(epoch * m + i)\n",
    "        theta = theta - eta * gradients\n",
    "        \n",
    "print(theta)"
   ]
  },
  {
   "cell_type": "code",
   "execution_count": 11,
   "metadata": {
    "slideshow": {
     "slide_type": "fragment"
    }
   },
   "outputs": [
    {
     "name": "stderr",
     "output_type": "stream",
     "text": [
      "/anaconda3/lib/python3.7/site-packages/sklearn/linear_model/stochastic_gradient.py:152: DeprecationWarning: n_iter parameter is deprecated in 0.19 and will be removed in 0.21. Use max_iter and tol instead.\n",
      "  DeprecationWarning)\n"
     ]
    },
    {
     "data": {
      "text/plain": [
       "(array([1.97771021]), array([4.960105]))"
      ]
     },
     "execution_count": 11,
     "metadata": {},
     "output_type": "execute_result"
    }
   ],
   "source": [
    "from sklearn.linear_model import SGDRegressor\n",
    "sgd_reg = SGDRegressor(n_iter=50, penalty=None, eta0=0.1) \n",
    "sgd_reg.fit(x, y.ravel())\n",
    "sgd_reg.intercept_, sgd_reg.coef_ "
   ]
  },
  {
   "cell_type": "markdown",
   "metadata": {
    "slideshow": {
     "slide_type": "subslide"
    }
   },
   "source": [
    "### Variant\n",
    "\n",
    "- Mini-batch SGD\n",
    "- Momentum \n",
    "- Nesterov accelerated gradient\n",
    "- Adagrad / Adadelta / RMSprop / Adam / AdaMax / Nadam"
   ]
  },
  {
   "cell_type": "code",
   "execution_count": 12,
   "metadata": {
    "slideshow": {
     "slide_type": "fragment"
    }
   },
   "outputs": [
    {
     "data": {
      "text/html": [
       "\n",
       "        <iframe\n",
       "            width=\"700\"\n",
       "            height=\"600\"\n",
       "            src=\"https://arxiv.org/pdf/1609.04747.pdf\"\n",
       "            frameborder=\"0\"\n",
       "            allowfullscreen\n",
       "        ></iframe>\n",
       "        "
      ],
      "text/plain": [
       "<IPython.lib.display.IFrame at 0x11fdd5160>"
      ]
     },
     "execution_count": 12,
     "metadata": {},
     "output_type": "execute_result"
    }
   ],
   "source": [
    "from IPython.display import IFrame\n",
    "IFrame(src='https://arxiv.org/pdf/1609.04747.pdf', width=700, height=600)"
   ]
  },
  {
   "cell_type": "markdown",
   "metadata": {
    "slideshow": {
     "slide_type": "slide"
    }
   },
   "source": [
    "<h1 style=\"text-align: center;\"> Logistic Regression </h1>"
   ]
  },
  {
   "cell_type": "markdown",
   "metadata": {
    "slideshow": {
     "slide_type": "subslide"
    }
   },
   "source": [
    "<h2 style=\"text-align: center;\"> Principle </h2>\n",
    "\n",
    "**Logistic Regression** (also called **Logit Regression**) algorithms are used for **binary classification**.\n",
    "The model estimates the probability that an instance belongs to one of two classes (**{0,1}** or **{Y,N}** or **{+,-}** etc) and predicts for the instance the class with the highest probability.\n",
    "\n"
   ]
  },
  {
   "cell_type": "markdown",
   "metadata": {
    "slideshow": {
     "slide_type": "fragment"
    }
   },
   "source": [
    "In logistic regression, the model estimate a parameter \n",
    "$\\theta= (\\theta_0,\\theta_1,\\dots,\\theta_n)^T\\in {\\mathbb R}^{n+1}$, and predicts \n",
    "a class in **{0,1}** according to\n",
    "\n",
    "$$\n",
    "\\hat y = \n",
    "\\left\\{\n",
    "\\begin{array}{cc}\n",
    "0 \\quad \\mbox{if}\\quad \\sigma(\\theta.{\\bf x})<0.5 \\\\\n",
    "1 \\quad \\mbox{if}\\quad \\sigma(\\theta.{\\bf x})\\geq 0.5\n",
    "\\end{array}\n",
    "\\right.\n",
    "$$\n",
    "where $\\sigma$ is the sigmoid function. \n",
    "\n",
    "<p style=\"text-align: center;font-weight:bold;\"> \n",
    "The number $\\hat p:=\\sigma(\\theta.{\\bf x})\\in ]0,1[$ is an estimated\n",
    "probability that $x$ belongs to class $1$. \n",
    "</p>"
   ]
  },
  {
   "cell_type": "markdown",
   "metadata": {
    "slideshow": {
     "slide_type": "subslide"
    }
   },
   "source": [
    "<h2 style=\"text-align: center;\"> Logistic function </h2>  \n",
    "<br/>\n",
    "<img src=\"sigmoid_function.svg\" style='margin:auto' width= 60%  />\n",
    "\n",
    "<!--\n",
    "<div>\n",
    "    <div style=\"float: left; width: 25%;\">\n",
    "    <div style=\"text-align:center;margin-top:50%;\">\n",
    "$$\\sigma(t) = \\frac {1}{1+e^{-t}} \\in ]0,1[,\\quad t\\in{\\mathbb R}$$\n",
    "    </div>\n",
    "    </div>\n",
    "    <div style=\"  float: left;width: 75%;\">\n",
    "<img src=\"sigmoid_function.svg\" width= 80%  />\n",
    "    </div>\n",
    "</div>\n",
    "-->\n"
   ]
  },
  {
   "cell_type": "markdown",
   "metadata": {
    "slideshow": {
     "slide_type": "fragment"
    }
   },
   "source": [
    "Observe:  \n",
    "<div style='text-align:center;'>\n",
    "&#9679;   $\\sigma(\\theta\\cdot{\\bf x})\\geq0.5$ if and only if $\\theta \\cdot {\\bf x}\\geq 0$. <br/>\n",
    "&#9679;   $\\sigma(\\theta\\cdot{\\bf x})\\lt0.5$ if and only if $\\theta \\cdot {\\bf x} \\lt 0$. \n",
    "</div>"
   ]
  },
  {
   "cell_type": "markdown",
   "metadata": {
    "slideshow": {
     "slide_type": "fragment"
    }
   },
   "source": [
    "Observe:  \n",
    "$$\n",
    "\\sigma'(t) = \\sigma(t) (1- \\sigma(t))\n",
    "$$"
   ]
  },
  {
   "cell_type": "markdown",
   "metadata": {
    "slideshow": {
     "slide_type": "subslide"
    }
   },
   "source": [
    "<h2 style=\"text-align: center;\"> Loss function </h2>\n",
    "We introduce \n",
    "\n",
    "$$\n",
    "\\hat p=h_\\theta(x)=\\sigma(\\theta. {\\bf x})=\\sigma(\\theta_0+\\theta_1 x_1+\\dots+\\theta_n x_n)\n",
    "$$\n",
    "\n",
    "then \n",
    "\n",
    "$$\n",
    "c(\\theta)=\\left\\{\\begin{array}{l}- \\log(\\hat p)\\quad &\\quad y=1\\\\- \\log(1- \\hat p)\\quad &\\quad y=0\\\\\n",
    "\\end{array}\n",
    "\\right.\n",
    "\\quad\\quad\n",
    "\\equiv \n",
    "\\quad\\quad\n",
    "c(\\theta)\n",
    "=-\\bigg[\\log(\\hat p) y+ \\log(1- \\hat p) (1-y)\\bigg]\n",
    "$$\n",
    "\n",
    "This cost function is intuitive \n",
    "- $-\\log(p)=\\log(1/p)$ grows very large when $p$ approaches $0$. The cost (penality) is large if the model estimates a probability close to $0$ for instance in class $1$.\n",
    "\n",
    "\n",
    "- $-\\log(1-p)=\\log(1/(1-p))$ is close to $0$ when $p$ approaches $0$. The cost (penality) is small if the model estimates a probability close to $0$ for instance in class $0$.\n",
    "\n",
    "\n",
    "- Same observation if $p$ approaches $1$.\n"
   ]
  },
  {
   "cell_type": "markdown",
   "metadata": {
    "slideshow": {
     "slide_type": "fragment"
    }
   },
   "source": [
    "Given a training set $\\{(x^{(1)},y^{(1)}),\\dots,(x^{(m)},y^{(m)})\\} \\subset \\mathbb R^n \\times \\mathbb \\{0,1\\}$. \n",
    "The **loss function** is given by \n",
    "\n",
    "$$\n",
    "J(\\theta) = \\frac 1{m} \\sum_{i=1}^m c^{(i)}(\\theta),\\quad\\quad\\quad c^{(i)}(\\theta)=-\\bigg[\\log(\\hat p^{(i)}) y^{(i)} + \\log(1- \\hat p^{(i)}) (1-y^{(i)})\\bigg]\n",
    "$$"
   ]
  },
  {
   "cell_type": "markdown",
   "metadata": {
    "slideshow": {
     "slide_type": "subslide"
    }
   },
   "source": [
    "<h2 style=\"text-align: center;\"> Gradient computation </h2>\n",
    "\n",
    "Given $c(\\theta) =-\\big[\\log(\\hat p) y+ \\log(1- \\hat p) (1-y)\\big]$, observe\n",
    "\n",
    "$$\n",
    "\\frac {\\partial c }{\\partial \\theta_j}\n",
    "=\\frac {\\partial c }{\\partial \\hat p }\\frac {\\partial \\hat p }{\\partial (\\theta.{\\bf x})}\\frac {\\partial (\\theta.{\\bf x})}{\\partial \\theta_j  }\n",
    "=\\frac {\\partial c }{\\partial \\hat p }\\;\\sigma'(\\theta.{\\bf x})\\;x_j\n",
    "$$\n",
    "\n",
    "We have \n",
    "\n",
    "$$\n",
    "\\frac {\\partial c }{\\partial \\hat p } = -\\bigg[\\frac 1 {\\hat p} y -  \\frac 1{1- \\hat p} (1-y)\\bigg]\\quad\\quad\\sigma'(\\theta.{\\bf x})\\;= \\sigma (\\theta.{\\bf x}) (1-\\sigma(\\theta.{\\bf x})) = \\hat p (1- \\hat p) \n",
    "$$\n",
    "\n",
    "Finally\n",
    "\n",
    "$$\n",
    "\\frac {\\partial c }{\\partial \\theta_j}=-\\bigg[(1- \\hat p) y - \\hat p (1-y)\\bigg]x_j=\\big[ \\hat p -y \\big]x_j\n",
    "$$"
   ]
  },
  {
   "cell_type": "markdown",
   "metadata": {
    "slideshow": {
     "slide_type": "fragment"
    }
   },
   "source": [
    "<h3 style=\"text-align: center;\"> Chain rule: seed to Back-propagtion algorithms </h3> "
   ]
  },
  {
   "cell_type": "markdown",
   "metadata": {
    "slideshow": {
     "slide_type": "fragment"
    }
   },
   "source": [
    "The partial derivatives of $J$ are given by \n",
    "$$\n",
    "\\frac {\\partial J(\\theta) }{\\partial \\theta_j}=\\frac 1{m} \\sum_{i=1}^m \\frac {\\partial c^{(i)}(\\theta) }{\\partial \\theta_j}=\\frac 1{m} \\sum_{i=1}^m \\big[ \\sigma(\\theta.{\\bf x}^{(i)})-y^{(i)} \\big]\\;x_j^{(i)}\n",
    "$$\n"
   ]
  },
  {
   "cell_type": "markdown",
   "metadata": {
    "slideshow": {
     "slide_type": "subslide"
    }
   },
   "source": [
    "### Decision Boundaries for the iris flower dataset\n",
    "\n",
    "<img src=\"https://s3.amazonaws.com/media-p.slid.es/uploads/633656/images/6079473/iris-machinelearning.png\" style=\"\" data-natural-width=\"1275\" data-natural-height=\"477\"/>\n"
   ]
  },
  {
   "cell_type": "code",
   "execution_count": 13,
   "metadata": {
    "slideshow": {
     "slide_type": "subslide"
    }
   },
   "outputs": [
    {
     "data": {
      "text/plain": [
       "['data', 'target', 'target_names', 'DESCR', 'feature_names', 'filename']"
      ]
     },
     "execution_count": 13,
     "metadata": {},
     "output_type": "execute_result"
    }
   ],
   "source": [
    "from sklearn import datasets\n",
    "iris = datasets.load_iris()\n",
    "list(iris.keys())"
   ]
  },
  {
   "cell_type": "code",
   "execution_count": 14,
   "metadata": {
    "slideshow": {
     "slide_type": "fragment"
    }
   },
   "outputs": [
    {
     "data": {
      "text/plain": [
       "['sepal length (cm)',\n",
       " 'sepal width (cm)',\n",
       " 'petal length (cm)',\n",
       " 'petal width (cm)']"
      ]
     },
     "execution_count": 14,
     "metadata": {},
     "output_type": "execute_result"
    }
   ],
   "source": [
    "iris['feature_names']"
   ]
  },
  {
   "cell_type": "code",
   "execution_count": 15,
   "metadata": {
    "slideshow": {
     "slide_type": "subslide"
    }
   },
   "outputs": [
    {
     "name": "stderr",
     "output_type": "stream",
     "text": [
      "/anaconda3/lib/python3.7/site-packages/sklearn/linear_model/logistic.py:433: FutureWarning: Default solver will be changed to 'lbfgs' in 0.22. Specify a solver to silence this warning.\n",
      "  FutureWarning)\n"
     ]
    },
    {
     "ename": "NameError",
     "evalue": "name 'save_fig' is not defined",
     "output_type": "error",
     "traceback": [
      "\u001b[0;31m---------------------------------------------------------------------------\u001b[0m",
      "\u001b[0;31mNameError\u001b[0m                                 Traceback (most recent call last)",
      "\u001b[0;32m<ipython-input-15-f08440673dc5>\u001b[0m in \u001b[0;36m<module>\u001b[0;34m\u001b[0m\n\u001b[1;32m     33\u001b[0m \u001b[0mplt\u001b[0m\u001b[0;34m.\u001b[0m\u001b[0mylabel\u001b[0m\u001b[0;34m(\u001b[0m\u001b[0;34m\"Petal width\"\u001b[0m\u001b[0;34m,\u001b[0m \u001b[0mfontsize\u001b[0m\u001b[0;34m=\u001b[0m\u001b[0;36m14\u001b[0m\u001b[0;34m)\u001b[0m\u001b[0;34m\u001b[0m\u001b[0;34m\u001b[0m\u001b[0m\n\u001b[1;32m     34\u001b[0m \u001b[0mplt\u001b[0m\u001b[0;34m.\u001b[0m\u001b[0maxis\u001b[0m\u001b[0;34m(\u001b[0m\u001b[0;34m[\u001b[0m\u001b[0;36m2.9\u001b[0m\u001b[0;34m,\u001b[0m \u001b[0;36m7\u001b[0m\u001b[0;34m,\u001b[0m \u001b[0;36m0.8\u001b[0m\u001b[0;34m,\u001b[0m \u001b[0;36m2.7\u001b[0m\u001b[0;34m]\u001b[0m\u001b[0;34m)\u001b[0m\u001b[0;34m\u001b[0m\u001b[0;34m\u001b[0m\u001b[0m\n\u001b[0;32m---> 35\u001b[0;31m \u001b[0msave_fig\u001b[0m\u001b[0;34m(\u001b[0m\u001b[0;34m\"logistic_regression_contour_plot\"\u001b[0m\u001b[0;34m)\u001b[0m\u001b[0;34m\u001b[0m\u001b[0;34m\u001b[0m\u001b[0m\n\u001b[0m\u001b[1;32m     36\u001b[0m \u001b[0mplt\u001b[0m\u001b[0;34m.\u001b[0m\u001b[0mshow\u001b[0m\u001b[0;34m(\u001b[0m\u001b[0;34m)\u001b[0m\u001b[0;34m\u001b[0m\u001b[0;34m\u001b[0m\u001b[0m\n",
      "\u001b[0;31mNameError\u001b[0m: name 'save_fig' is not defined"
     ]
    },
    {
     "data": {
      "image/png": "[encoded data removed]",
      "text/plain": [
       "<Figure size 720x288 with 1 Axes>"
      ]
     },
     "metadata": {
      "needs_background": "light"
     },
     "output_type": "display_data"
    }
   ],
   "source": [
    "from sklearn.linear_model import LogisticRegression\n",
    "\n",
    "X = iris[\"data\"][:, (2, 3)]  # petal length, petal width\n",
    "y = (iris[\"target\"] == 2).astype(np.int)\n",
    "\n",
    "log_reg = LogisticRegression(C=10**10, random_state=42)\n",
    "log_reg.fit(X, y)\n",
    "\n",
    "x0, x1 = np.meshgrid(\n",
    "                    np.linspace(2.9, 7, 500).reshape(-1, 1),\n",
    "                    np.linspace(0.8, 2.7, 200).reshape(-1, 1),\n",
    ")\n",
    "X_new = np.c_[x0.ravel(), x1.ravel()]\n",
    "\n",
    "y_proba = log_reg.predict_proba(X_new)\n",
    "\n",
    "plt.figure(figsize=(10, 4))\n",
    "plt.plot(X[y==0, 0], X[y==0, 1], \"bs\")\n",
    "plt.plot(X[y==1, 0], X[y==1, 1], \"g^\")\n",
    "\n",
    "zz = y_proba[:, 1].reshape(x0.shape)\n",
    "contour = plt.contour(x0, x1, zz, cmap=plt.cm.brg)\n",
    "\n",
    "\n",
    "left_right = np.array([2.9, 7])\n",
    "boundary = -(log_reg.coef_[0][0] * left_right + log_reg.intercept_[0]) / log_reg.coef_[0][1]\n",
    "\n",
    "plt.clabel(contour, inline=1, fontsize=12)\n",
    "plt.plot(left_right, boundary, \"k--\", linewidth=3)\n",
    "plt.text(3.5, 1.5, \"Not Iris-Virginica\", fontsize=14, color=\"b\", ha=\"center\")\n",
    "plt.text(6.5, 2.3, \"Iris-Virginica\", fontsize=14, color=\"g\", ha=\"center\")\n",
    "plt.xlabel(\"Petal length\", fontsize=14)\n",
    "plt.ylabel(\"Petal width\", fontsize=14)\n",
    "plt.axis([2.9, 7, 0.8, 2.7])\n",
    "save_fig(\"logistic_regression_contour_plot\")\n",
    "plt.show()"
   ]
  },
  {
   "cell_type": "markdown",
   "metadata": {
    "slideshow": {
     "slide_type": "slide"
    }
   },
   "source": [
    "<h1 style=\"text-align: center;\"> Soft-max regression </h1>"
   ]
  },
  {
   "cell_type": "markdown",
   "metadata": {
    "slideshow": {
     "slide_type": "subslide"
    }
   },
   "source": [
    "<h2 style=\"text-align: center;\"> Principle </h2>\n",
    "\n",
    "Soft-max regression generalizes logistic regression in order to support $K$ classes. The model estimates a **parameter matrix**\n",
    "\n",
    "$$\n",
    "\\Theta = [\\Theta_1|\\Theta_2\\dots|\\Theta_K]^T\\in {\\mathbb R}^{K \\times (n+1)},\\quad\\quad\n",
    "\\Theta_k =(\\Theta_{0,k},\\Theta_{1,k},\\dots,\\Theta_{n,k} )^{T}.\n",
    "$$\n",
    "\n",
    "Given $x\\in{\\mathbb R}^n$ and ${\\bf x} = (1,x) \\in {\\mathbb R}^{n+1}$, we compute \n",
    "$z=\\Theta {\\bf x}~$ ( i.e. $z_j=\\Theta_j. {\\bf x}$  for every $j=1,\\dots,K$), then compute\n",
    "the $K$ probabilities \n",
    "\n",
    "$$\n",
    "\\hat p_k = \\frac {\\exp({z_k})}{\\displaystyle\\sum_{j=0}^K \\exp({z_j})},\\quad\\quad k=1,\\dots,K.\n",
    "$$"
   ]
  },
  {
   "cell_type": "markdown",
   "metadata": {
    "slideshow": {
     "slide_type": "fragment"
    }
   },
   "source": [
    "<div style=\"text-align: center;font-weight:bold;\"> The class predicted for $x$ is \n",
    "the class $k$ with the highest probabilities $ \\hat p_k$. </div> \n"
   ]
  },
  {
   "cell_type": "markdown",
   "metadata": {
    "slideshow": {
     "slide_type": "subslide"
    }
   },
   "source": [
    "<h2 style=\"text-align: center;\"> Example: Decision Boundaries for the iris flower dataset </h2>\n",
    "\n",
    "<img style='margin:auto;' src='softmax_iris.svg'/>"
   ]
  },
  {
   "cell_type": "markdown",
   "metadata": {
    "slideshow": {
     "slide_type": "subslide"
    }
   },
   "source": [
    "<h2 style=\"text-align: center;\"> Loss function </h2>\n",
    "\n",
    "Given a training set $\\{(x^{(1)},y^{(1)}),\\dots,(x^{(m)},y^{(m)})\\} \\subset \\mathbb R^n \\times \\mathbb \\{1,2,\\dots,K\\}$, the model minimizes a **suitable loss function** in order to find the best parameter matrix $\\Theta^*$. Given $\\{{ x}^{(i)},{ y}^{(i)}\\} $, the associated individual loss is given by \n",
    "\n",
    "$$\n",
    "c^{(i)}(\\Theta)= - \\log (\\hat p_k^{(i)}),\n",
    "\\quad\\quad \\mbox{if}\\quad\\quad\n",
    "y^{(i)} = k. \n",
    "$$\n",
    "\n",
    "Intuitively, given $y^{(i)}$ belongs to class $k$\n",
    "- we want $\\hat p_k^{(i)}$ to be close to $1$ (so that $\\hat p_k^{(i)}$ is the highest probability).  \n",
    "- the closer $\\hat p_k^{(i)}$ is to $0$ (i.e. the more certain that a miss-classification occurs), the larger is the loss (penalization) $c^{(i)}(\\Theta)$.\n",
    "\n",
    "Then the loss function for the whole training set is given by \n",
    "\n",
    "$$\n",
    "J(\\Theta)= \\frac 1{m} \\sum_{i=1}^m c^{(i)}(\\Theta)=- \\frac 1{m} \\sum_{i=1}^m  \\log (\\hat p_{y(i)}^{(i)}).\n",
    "$$\n"
   ]
  },
  {
   "cell_type": "markdown",
   "metadata": {
    "slideshow": {
     "slide_type": "fragment"
    }
   },
   "source": [
    "\n",
    "<h5 style=\"text-align: center;\"> We will view the function $J$ as a function of $(\\Theta_1,\\Theta_2,\\dots,\\Theta_K)$.</h5> "
   ]
  },
  {
   "cell_type": "markdown",
   "metadata": {
    "slideshow": {
     "slide_type": "subslide"
    }
   },
   "source": [
    "<h2 style=\"text-align: center;\"> Gradient computation </h2>\n",
    "\n",
    "We Let $\\theta = \\Theta_{j} \\in \\mathbb R^{n+1}$ for some $j\\in \\{1,\\dots,K\\}$: We have the following **function dependency diagram** \n",
    "\n",
    "$$\n",
    "\\Theta \\longrightarrow (z^{(i)}_l)_{\\substack{i=1,\\dots,m\\\\l=1,\\dots,K}} \\longrightarrow J.\n",
    "$$\n",
    "\n",
    "Using **chain rule** with respect to the intermediates variables and $\\nabla_{\\theta} z_l = \\delta_{j,l}{\\bf x}$ which follows from $z_l=\\Theta_l. {\\bf x}$, one has  \n",
    "\n",
    "$$\\nabla_{\\theta}  J(\\Theta)=\\sum_{i=1}^m \\sum_{l=1}^K\\frac {\\partial  J(\\Theta)}{\\partial z_l^{(i)}}\\nabla_{\\theta}  z_l^{(i)}=\\sum_{i=1}^m \\frac {\\partial  J(\\Theta)}{\\partial z_j^{(i)}}{\\bf x}^{(i)}$$"
   ]
  },
  {
   "cell_type": "markdown",
   "metadata": {
    "slideshow": {
     "slide_type": "fragment"
    }
   },
   "source": [
    "In view of the formula for $J$\n",
    "$$\n",
    " \\frac {\\partial  J(\\Theta)}{\\partial z_j^{(i)}}=\n",
    "-\\frac 1m \\frac {\\partial  \\log(\\hat p_k^{(i)})}{\\partial z_j^{(i)}}\n",
    "$$\n",
    "\n",
    "By derivation of usual functions, one has \n",
    "\n",
    "$$\\frac {\\partial  \\log(\\hat p_k)}{\\partial z_j} =\\frac 1{\\hat p_k} \\frac {\\partial \\hat p_k}{\\partial z_j}\n",
    "=\n",
    "\\frac 1{\\hat p_k}\n",
    "\\left\\{\n",
    "\\begin{array}{ll}\n",
    "\\hat p_k - (\\hat p_k)^2&\\quad \\mbox{if}\\quad j=k \n",
    "\\\\\n",
    "- \\hat p_k \\hat p_j &\\quad \\mbox{if}\\quad j\\neq k\n",
    "\\end{array}\n",
    "\\right.\n",
    "=\n",
    "\\left\\{\n",
    "\\begin{array}{ll}\n",
    "1 - \\hat p_k&\\quad \\mbox{if}\\quad j=k \n",
    "\\\\\n",
    "- \\hat p_j &\\quad \\mbox{if}\\quad j\\neq k\n",
    "\\end{array}\n",
    "\\right.\n",
    "$$  \n",
    "\n",
    "The combination of the previous formulas implies\n",
    "\n",
    "$$\n",
    "\\nabla_{\\theta} J(\\Theta) = -  \\frac 1m \\sum_{i=1}^m ({\\mathbb 1}_{y^{(i)}=j} - \\hat p_j^{(i)}) {\\bf x}^{(i)}\n",
    "\\quad\\quad\\quad\\quad\n",
    "\\nabla_{\\theta} J(\\Theta)\n",
    "\\in {\\mathbb R}^{n+1}\n",
    "$$\n",
    "\n",
    "<!--\n",
    "<h5 style=\"text-align: center;\"> Observe that the gradient $\\nabla_{\\theta}z_l$ is equal to $0$, except if $l=j$, it is equal to $\\bf x$.</h5> \n",
    "-->"
   ]
  },
  {
   "cell_type": "markdown",
   "metadata": {
    "slideshow": {
     "slide_type": "subslide"
    }
   },
   "source": [
    "The function $J$ as a function of $(\\Theta_1,\\Theta_2,\\dots,\\Theta_K)$ satisfies\n",
    "\n",
    "$$\n",
    "\\nabla_{\\Theta_j} J(\\Theta) = -  \\frac 1m \\sum_{i=1}^m ({\\mathbb 1}_{y^{(i)}=j} - \\hat p_j^{(i)}) {\\bf x}^{(i)}.\n",
    "$$\n",
    "\n",
    "Finally \n",
    "\n",
    "$$\n",
    "\\nabla_{\\Theta} J(\\Theta) = [\\nabla_{\\Theta_1} J(\\Theta) |\\nabla_{\\Theta_2} J(\\Theta) |\\dots|\\nabla_{\\Theta_k} J(\\Theta) ]^T\\in {\\mathbb R}^{K \\times (n+1)}.\n",
    "$$\n",
    "\n",
    "- Batch gradient descent;\n",
    "- stochastic gradient descent;\n",
    "- mini-Batch stochastic gradient descent;\n",
    "\n",
    "can all be implemented."
   ]
  },
  {
   "cell_type": "code",
   "execution_count": 17,
   "metadata": {
    "slideshow": {
     "slide_type": "subslide"
    }
   },
   "outputs": [
    {
     "ename": "NameError",
     "evalue": "name 'save_fig' is not defined",
     "output_type": "error",
     "traceback": [
      "\u001b[0;31m---------------------------------------------------------------------------\u001b[0m",
      "\u001b[0;31mNameError\u001b[0m                                 Traceback (most recent call last)",
      "\u001b[0;32m<ipython-input-17-407055f81e5e>\u001b[0m in \u001b[0;36m<module>\u001b[0;34m\u001b[0m\n\u001b[1;32m     33\u001b[0m \u001b[0mplt\u001b[0m\u001b[0;34m.\u001b[0m\u001b[0mlegend\u001b[0m\u001b[0;34m(\u001b[0m\u001b[0mloc\u001b[0m\u001b[0;34m=\u001b[0m\u001b[0;34m\"center left\"\u001b[0m\u001b[0;34m,\u001b[0m \u001b[0mfontsize\u001b[0m\u001b[0;34m=\u001b[0m\u001b[0;36m14\u001b[0m\u001b[0;34m)\u001b[0m\u001b[0;34m\u001b[0m\u001b[0;34m\u001b[0m\u001b[0m\n\u001b[1;32m     34\u001b[0m \u001b[0mplt\u001b[0m\u001b[0;34m.\u001b[0m\u001b[0maxis\u001b[0m\u001b[0;34m(\u001b[0m\u001b[0;34m[\u001b[0m\u001b[0;36m0\u001b[0m\u001b[0;34m,\u001b[0m \u001b[0;36m7\u001b[0m\u001b[0;34m,\u001b[0m \u001b[0;36m0\u001b[0m\u001b[0;34m,\u001b[0m \u001b[0;36m3.5\u001b[0m\u001b[0;34m]\u001b[0m\u001b[0;34m)\u001b[0m\u001b[0;34m\u001b[0m\u001b[0;34m\u001b[0m\u001b[0m\n\u001b[0;32m---> 35\u001b[0;31m \u001b[0msave_fig\u001b[0m\u001b[0;34m(\u001b[0m\u001b[0;34m\"softmax_regression_contour_plot\"\u001b[0m\u001b[0;34m)\u001b[0m\u001b[0;34m\u001b[0m\u001b[0;34m\u001b[0m\u001b[0m\n\u001b[0m\u001b[1;32m     36\u001b[0m \u001b[0mplt\u001b[0m\u001b[0;34m.\u001b[0m\u001b[0mshow\u001b[0m\u001b[0;34m(\u001b[0m\u001b[0;34m)\u001b[0m\u001b[0;34m\u001b[0m\u001b[0;34m\u001b[0m\u001b[0m\n",
      "\u001b[0;31mNameError\u001b[0m: name 'save_fig' is not defined"
     ]
    },
    {
     "data": {
      "image/png": "[encoded data removed]",
      "text/plain": [
       "<Figure size 720x288 with 1 Axes>"
      ]
     },
     "metadata": {
      "needs_background": "light"
     },
     "output_type": "display_data"
    }
   ],
   "source": [
    "X = iris[\"data\"][:, (2, 3)]  # petal length, petal width, mainly for visualisation\n",
    "y = iris[\"target\"]\n",
    "\n",
    "softmax_reg = LogisticRegression(multi_class=\"multinomial\",solver=\"lbfgs\", C=10, random_state=42)\n",
    "softmax_reg.fit(X, y)\n",
    "\n",
    "#softmax_reg = LogisticRegression(multi_class=\"multinomial\",solver=\"lbfgs\", C=10)\n",
    "#softmax_reg.fit(X, y)\n",
    "    \n",
    "x0, x1 = np.meshgrid( np.linspace(0, 8, 500).reshape(-1, 1),\n",
    "                     np.linspace(0, 3.5, 200).reshape(-1, 1),)\n",
    "X_new = np.c_[x0.ravel(), x1.ravel()]\n",
    "\n",
    "y_proba = softmax_reg.predict_proba(X_new)\n",
    "y_predict = softmax_reg.predict(X_new)\n",
    "\n",
    "zz1 = y_proba[:, 1].reshape(x0.shape)\n",
    "zz = y_predict.reshape(x0.shape)\n",
    "\n",
    "plt.figure(figsize=(10, 4))\n",
    "plt.plot(X[y==2, 0], X[y==2, 1], \"g^\", label=\"Iris-Virginica\")\n",
    "plt.plot(X[y==1, 0], X[y==1, 1], \"bs\", label=\"Iris-Versicolor\")\n",
    "plt.plot(X[y==0, 0], X[y==0, 1], \"yo\", label=\"Iris-Setosa\")\n",
    "\n",
    "from matplotlib.colors import ListedColormap\n",
    "custom_cmap = ListedColormap(['#fafab0','#9898ff','#a0faa0'])\n",
    "\n",
    "plt.contourf(x0, x1, zz, cmap=custom_cmap)\n",
    "contour = plt.contour(x0, x1, zz1, cmap=plt.cm.brg)\n",
    "plt.clabel(contour, inline=1, fontsize=12)\n",
    "plt.xlabel(\"Petal length\", fontsize=14)\n",
    "plt.ylabel(\"Petal width\", fontsize=14)\n",
    "plt.legend(loc=\"center left\", fontsize=14)\n",
    "plt.axis([0, 7, 0, 3.5])\n",
    "save_fig(\"softmax_regression_contour_plot\")\n",
    "plt.show()"
   ]
  },
  {
   "cell_type": "markdown",
   "metadata": {
    "slideshow": {
     "slide_type": "slide"
    }
   },
   "source": [
    "<h1 style=\"text-align: center;\"> Summary   </h1>\n",
    "\n",
    "\n",
    "How do we **learn** the \"best\" weights vector $(\\theta_0^*,\\dots,\\theta_n^*)$ or matrix $(\\Theta_0^*|\\dots|\\Theta_n^*)$ in linear/logistic/soft-max regression\n",
    "<br>\n",
    "<br>\n",
    "\n",
    "\n",
    "<div style=\"float:left;\" >\n",
    "    <span data-fragment-index=\"1\" style=\"font-size:1.3em\">Gradient Descent Algorithms</span>\n",
    "<img data-natural-width=\"600\" width=\"300\" style=\"right:0;top:10%;float:right;\" data-lazy-loaded=\"\" src=\"https://s3.amazonaws.com/media-p.slid.es/uploads/655061/images/3516655/sgd_contour.gif\"/>\n",
    "<ul>\n",
    "            <li class=\"fragment\" data-fragment-index=\"1\">\n",
    "                Give weights random initial values\n",
    "            </li>\n",
    "            <br>\n",
    "            <li class=\"fragment\" data-fragment-index=\"2\">\n",
    "                Evaluate partial derivative of each weight with respect to <strong>MSE</strong> or <strong>negative log-likelihood</strong> at current weight value\n",
    "            </li>\n",
    "            <br>\n",
    "            <li class=\"fragment\" data-fragment-index=\"3\">\n",
    "               Take a step in direction opposite to the gradient \n",
    "            </li>\n",
    "            <br>\n",
    "            <li class=\"fragment\" data-fragment-index=\"4\">\n",
    "                <span >Rinse and repeat</span>\n",
    "            </li>\n",
    "            <br>\n",
    "        </ul>\n",
    "</div>\n"
   ]
  },
  {
   "cell_type": "markdown",
   "metadata": {
    "slideshow": {
     "slide_type": "subslide"
    }
   },
   "source": [
    "<p style='text-align:center; font-size:1.4em'>\n",
    "Essence of the entire learning process behind deep learning algorithms\n",
    "<p>"
   ]
  },
  {
   "cell_type": "markdown",
   "metadata": {
    "slideshow": {
     "slide_type": "slide"
    }
   },
   "source": [
    "<h1 style=\"text-align: center;\"> Neural network and backpropagation  </h1>"
   ]
  },
  {
   "cell_type": "markdown",
   "metadata": {
    "slideshow": {
     "slide_type": "subslide"
    }
   },
   "source": [
    "<h2 style='text-align:center'>\n",
    "    MULTILAYER PERCEPTRONS (MLPs)\n",
    "</h2>\n",
    "<img width=\"500\" style=\"margin:auto;text-align:center\" data-lazy-loaded=\"\" src=\"https://s3.amazonaws.com/media-p.slid.es/uploads/655061/images/3516930/neural_net2.jpg\"/>\n",
    "\n",
    "<ul>\n",
    "    <li class=\"fragment\" data-fragment-index=\"1\">\n",
    "        Most generic form of a neural net is the \"multilayer perceptron\"\n",
    "    </li>\n",
    "    <li class=\"fragment\" data-fragment-index=\"2\">\n",
    "              Input undergoes a series of nonlinear transformation \n",
    "    </li>\n",
    "    <li class=\"fragment\" data-fragment-index=\"3\">\n",
    "       A final classification layer</span>\n",
    "    </li>\n",
    "</ul>\n",
    "\n",
    "\n",
    "<ul>\n",
    "    <li class=\"fragment\" data-fragment-index=\"4\">\n",
    "        MLPs are easy entry to understand deep learning models\n",
    "        </li>\n",
    "    <li class=\"fragment\" data-fragment-index=\"5\">\n",
    "                Closely related to logistic regression\n",
    "    </li>\n",
    " </ul>"
   ]
  },
  {
   "cell_type": "markdown",
   "metadata": {
    "slideshow": {
     "slide_type": "subslide"
    }
   },
   "source": [
    "<h2 style=\"text-align: center;\"> Principle </h2>\n",
    "\n",
    "We consider classification problem for **iris dataset** using neural network with one **hidden layer** (5 nodes) \n",
    "and **activation function** $\\varphi$ (sigmoid, relu, etc)\n",
    "<br>\n",
    "\n",
    "<div>\n",
    "<img width=\"350\" style=\" float:right;\" src= 'dnn_1hidden.svg'/>\n",
    "\n",
    "- Input layer $$x=(x_1,x_2,x_3,x_4)^T.$$\n",
    "\n",
    "- Hidden layer  \n",
    "$$h = (h_1,h_2,h_3, h_4,h_5)^T.$$\n",
    "\n",
    "- Output layer \n",
    "$$z = ( z_1, z_2, z_3)^T.$$\n",
    "\n",
    "With bias in input and hidden layer $x_0 = 1, h_0=1$, we denote\n",
    "\n",
    "$$\n",
    "{\\bf x} = (1,x^T)^T,\\quad\\quad\\quad\n",
    "{\\bf h} = (1,h^T)^T\n",
    "$$\n",
    "\n",
    "\n",
    "</div>"
   ]
  },
  {
   "cell_type": "markdown",
   "metadata": {
    "slideshow": {
     "slide_type": "subslide"
    }
   },
   "source": [
    "<img width=\"800\" style=\" margin:auro\" src= 'dnn_1hidden_details.svg'/>\n"
   ]
  },
  {
   "cell_type": "markdown",
   "metadata": {
    "slideshow": {
     "slide_type": "subslide"
    }
   },
   "source": [
    "<h2 style=\"text-align: center;\"> Loss function </h2>\n",
    "\n",
    "Given a training set $\\{(x^{(1)},y^{(1)}),\\dots,(x^{(m)},y^{(m)})\\} \\subset \\mathbb R^n \\times \\mathbb \\{1,2,\\dots,K\\}$ ($n=4$ and $K=3$ for iris dataset), the model minimizes the **negative log-likelihood** as for Soft-Max\n",
    "regression in order to find the best parameter matrices $\\widetilde\\Theta^*$ and $\\Theta^*$. \n",
    "The loss function for the whole training set is given by \n",
    "\n",
    "$$\n",
    "J(\\widetilde\\Theta,\\Theta) = \n",
    "-  \\frac 1{m} \\sum_{{i=1}}^m \\log (\\hat p_k^{(i)}),\\quad\\quad\\quad (k \\mbox{ is such that } y^{(i)} \\mbox{ belongs to class } k)\n",
    "$$\n",
    "\n",
    "\n",
    "If $n_h$ is the number of nodes in the hidden layer (here $n_h=5$), we write\n",
    "\n",
    "$$\n",
    "\\widetilde\\Theta = [\\widetilde\\Theta_1|\\widetilde\\Theta_2\\dots|\\widetilde\\Theta_{n_h}]^T\\in {\\mathbb R}^{n_h \\times (n+1)},\\quad\\quad\n",
    "\\Theta = [\\Theta_1|\\Theta_2\\dots|\\Theta_K]^T\\in {\\mathbb R}^{K \\times (n_h+1)},\\quad\\quad\n",
    "$$"
   ]
  },
  {
   "cell_type": "markdown",
   "metadata": {
    "slideshow": {
     "slide_type": "fragment"
    }
   },
   "source": [
    "<h5 style=\"text-align: center;\"> We will view the function $J$ as a function of $(\\widetilde\\Theta_1,\\widetilde\\Theta_2,\\dots,\\widetilde\\Theta_{n_h},\\Theta_1,\\Theta_2,\\dots,\\Theta_K)$.</h5> "
   ]
  },
  {
   "cell_type": "markdown",
   "metadata": {
    "slideshow": {
     "slide_type": "subslide"
    }
   },
   "source": [
    "<h2 style='text-align:center'>\n",
    "   But how do we compute gradients, with respect to the $\\Theta_j$ and $\\widetilde\\Theta_j$\n",
    "</h2>\n",
    "\n",
    "We recall the **mapping diagram** \n",
    "\n",
    "$$\n",
    "{\\bf x} \\quad\\Longrightarrow\\quad h^{-} = \\widetilde \\Theta {\\bf x} \\quad\\Longrightarrow\\quad h = \\varphi(h^{-}) \\quad\\Longrightarrow\\quad z=\\Theta {\\bf h}    \n",
    "$$\n",
    " \n",
    "and the **function dependency diagram** \n",
    "\n",
    "$$\n",
    "(\\widetilde \\Theta, \\Theta) \\longrightarrow ({h^{-}_j}^{(i)})_{\\substack{i=1,\\dots,m\\\\j=1,\\dots,n_h}} \\longrightarrow ({h_j}^{(i)})_{\\substack{i=1,\\dots,m\\\\j=1,\\dots,n_h}}  \\longrightarrow (z^{(i)}_l)_{\\substack{i=1,\\dots,m\\\\l=1,\\dots,K}} \\longrightarrow J.\n",
    "$$"
   ]
  },
  {
   "cell_type": "markdown",
   "metadata": {
    "slideshow": {
     "slide_type": "fragment"
    }
   },
   "source": [
    "- For $j=1,\\dots,K$, we proceed as in soft-max regression (but with $h$ as input)\n",
    "$$\\nabla_{\\Theta_j}  J =\\sum_{i=1}^m \\frac {\\partial  J}{\\partial z_j^{(i)}}{\\bf h}^{(i)} = -  \\frac 1m \\sum_{i=1}^m ({\\mathbb 1}_{y^{(i)}=j} - \\hat p_j^{(i)}) {\\bf h}^{(i)}.\n",
    "$$\n",
    "Observe dependance on $\\widetilde\\Theta$  through the ${\\bf h}^{(i)}$ then on $\\Theta$ through the $\\hat p_k^{(i)}$.\n",
    "\n",
    "\n"
   ]
  },
  {
   "cell_type": "markdown",
   "metadata": {
    "slideshow": {
     "slide_type": "subslide"
    }
   },
   "source": [
    "- For $j = 1,\\dots,n_h$ and $\\tilde\\theta = \\widetilde\\Theta_{j}$, we proceed as in soft-max regression: **chain rule** with variables $({h_j^{-}}^{(i)})_{\\substack{i=1,\\dots,m\\\\j=1,\\dots,n_h}}$ and $h^{-} = \\widetilde \\Theta {\\bf x}$ implies \n",
    "$$\\nabla_{\\tilde\\theta} J= \\sum_{i=1}^m \\sum_{l=0}^{n_h}\\frac {\\partial J}{\\partial {h_l^{-}}^{(i)}} \\nabla_{\\tilde\\theta} {h_l^{-}}^{(i)}= \\sum_{i=1}^m \\frac {\\partial J}{\\partial {h_j^{-}}^{(i)}} {\\bf x}^{(i)}.\n",
    "$$\n",
    "Then $\\frac {\\partial J}{\\partial {h_j^{-}}^{(i)}} =\\frac {\\partial J}{\\partial h_j^{(i)}} \\sigma'({h_j^{-}}^{(i)})$ and\n",
    "$$\n",
    "\\frac {\\partial J}{\\partial h_j^{(i)}} \n",
    "= \\sum_{l=1}^K \\frac {\\partial J}{\\partial z_l^{(i)}} \\frac {\\partial z_l^{(i)}}{\\partial h_j^{(i)}}\n",
    "= \\sum_{l=1}^K \\frac {\\partial J}{\\partial z_l^{(i)}} \\Theta_{j,l}.\n",
    "$$"
   ]
  },
  {
   "cell_type": "markdown",
   "metadata": {
    "slideshow": {
     "slide_type": "fragment"
    }
   },
   "source": [
    "<h5 style=\"text-align: center;\"> The gradients $\\nabla_{\\Theta} J$ and $\\nabla_{\\widetilde\\Theta} J$ are completely determined knowing \n",
    "    $$\n",
    "    {\\partial  J}/{\\partial z_j^{(i)}} \\quad\\quad i=1,\\dots,m,\\quad j=1,\\dots k \\\\\n",
    "    {\\partial  J}/{\\partial h_j^{(i)}} \\quad\\quad i=1,\\dots,m,\\quad j=1,\\dots n_h\n",
    "    $$\n",
    "</h5>\n",
    "\n",
    "- Batch gradient descent;\n",
    "- stochastic gradient descent;\n",
    "- mini-Batch stochastic gradient descent;\n",
    "\n",
    "can all be implemented."
   ]
  },
  {
   "cell_type": "markdown",
   "metadata": {
    "slideshow": {
     "slide_type": "subslide"
    }
   },
   "source": [
    "## Backpropagation##\n",
    "<img width=\"500\" style=\" margin:auro\" src= 'back_prop.svg'/>\n",
    "\n"
   ]
  },
  {
   "cell_type": "markdown",
   "metadata": {
    "slideshow": {
     "slide_type": "subslide"
    }
   },
   "source": [
    "<!--\n",
    "Given training set $\\{(x^{(1)},y^{(1)}),\\dots,(x^{(m)},y^{(m)})\\} \\subset \\mathbb R^n \\times \\mathbb R$, we let \n",
    "$$\n",
    "{\\bf x}^{(i)} = (1,{ x}^{(i)}) \\in {\\mathbb R}^{n+1},\\quad\\quad\n",
    "{\\bf z}^{(i)} = (1,{ z}^{(i)}),\\quad\\quad\n",
    "{\\bf \\tilde z}^{(1)} = {\\tilde z}^{(i)},\\quad\\quad\n",
    "$$\n",
    "and\n",
    "\n",
    "$$\n",
    "X=\n",
    "\\left[\n",
    "\\begin{array}{c}\n",
    "{\\bf x}^{(1)} \\\\\n",
    "\\hline\n",
    "{\\bf x}^{(2)} \\\\\n",
    "\\hline\n",
    "\\vdots\\\\\n",
    "\\hline\n",
    "{\\bf x}^{(m)}\n",
    "\\end{array}\n",
    "\\right],\\quad\\quad \n",
    "Z=\n",
    "\\left[\n",
    "\\begin{array}{c}\n",
    "{\\bf z}^{(1)} \\\\\n",
    "\\hline\n",
    "{\\bf z}^{(2)} \\\\\n",
    "\\hline\n",
    "\\vdots\\\\\n",
    "\\hline\n",
    "{\\bf z}^{(m)}\n",
    "\\end{array}\n",
    "\\right]\n",
    "\\quad\\quad \n",
    "\\tilde Z=\n",
    "\\left[\n",
    "\\begin{array}{c}\n",
    "{\\bf \\tilde z}^{(1)} \\\\\n",
    "\\hline\n",
    "{\\bf \\tilde z}^{(2)} \\\\\n",
    "\\hline\n",
    "\\vdots\\\\\n",
    "\\hline\n",
    "{\\bf \\tilde z}^{(m)}\n",
    "\\end{array}\n",
    "\\right]\n",
    "$$\n",
    "-->"
   ]
  },
  {
   "cell_type": "markdown",
   "metadata": {
    "slideshow": {
     "slide_type": "fragment"
    }
   },
   "source": [
    "<!--\n",
    "Then \n",
    "$$\n",
    "{\\bf Z} = relu(X.W ),\\quad\\quad \\quad W \\in {\\mathbb R}^{4\\times4},\n",
    "$$\n",
    "and\n",
    "$$\n",
    "{\\bf \\tilde Z} = relu(Z.\\tilde W ),\\quad\\quad \\quad \\tilde W \\in {\\mathbb R}^{5\\times4},\n",
    "$$\n",
    "Here $relu$ is vectorial \n",
    "$$\n",
    "relu(v) = (relu(v_1),\\dots, relu(v_k)),\\quad\\quad\n",
    "v = (v_1,\\dots, v_k) \n",
    "$$\n",
    "-->\n",
    "\n"
   ]
  },
  {
   "cell_type": "markdown",
   "metadata": {
    "slideshow": {
     "slide_type": "slide"
    }
   },
   "source": [
    "$$\n",
    "J(\\theta)=-\\frac{1}{m} \\sum_{i=1}^{m}\\left[y^{(i)} \\log \\left(h_{\\theta}\\left(x^{(i)}\\right)\\right)+\\left(1-y^{(i)}\\right) \\log \\left(1-h_{\\theta}\\left(x^{(i)}\\right)\\right)\\right]+\\frac{\\lambda}{2 m} \\sum_{j=1}^{n} \\theta_{j}^{2}\n",
    "$$\n",
    "\n",
    "$$\n",
    "J(\\Theta)=-\\frac{1}{m} \\sum_{i=1}^{m} \\sum_{k=1}^{K}\\left[y_{k}^{(i)} \\log \\left(\\left(h_{\\Theta}\\left(x^{(i)}\\right)\\right)_{k}\\right)+\\left(1-y_{k}^{(i)}\\right) \\log \\left(1-\\left(h_{\\Theta}\\left(x^{(i)}\\right)\\right)_{k}\\right)\\right]+\\frac{\\lambda}{2 m} \\sum_{l=1}^{L-1} \\sum_{i=1}^{s_{l}} \\sum_{j=1}^{s t+1}\\left(\\Theta_{j, i}^{(l)}\\right)^{2}\n",
    "$$\n",
    "\n",
    "Training a Neural Network\n",
    "\n",
    "- Randomly initialize the weights\n",
    "- Implement forward propagation to get $hΘ(x(i))$ for any $x^{(i)}x$ \n",
    "- Implement the cost function\n",
    "- Implement backpropagation to compute partial derivatives\n",
    "- Use gradient checking to confirm that your backpropagation works. Then disable gradient checking.\n",
    "- Use gradient descent or a built-in optimization function to minimize the cost function with the weights in theta."
   ]
  },
  {
   "cell_type": "markdown",
   "metadata": {
    "slideshow": {
     "slide_type": "subslide"
    }
   },
   "source": [
    "<h2 style=\"text-align: center;\"> some tensorflow code  </h2>"
   ]
  },
  {
   "cell_type": "code",
   "execution_count": 18,
   "metadata": {
    "slideshow": {
     "slide_type": "fragment"
    }
   },
   "outputs": [
    {
     "ename": "ModuleNotFoundError",
     "evalue": "No module named 'tensorflow'",
     "output_type": "error",
     "traceback": [
      "\u001b[0;31m---------------------------------------------------------------------------\u001b[0m",
      "\u001b[0;31mModuleNotFoundError\u001b[0m                       Traceback (most recent call last)",
      "\u001b[0;32m<ipython-input-18-694f65f92201>\u001b[0m in \u001b[0;36m<module>\u001b[0;34m\u001b[0m\n\u001b[0;32m----> 1\u001b[0;31m \u001b[0;32mimport\u001b[0m \u001b[0mtensorflow\u001b[0m \u001b[0;32mas\u001b[0m \u001b[0mtf\u001b[0m\u001b[0;34m\u001b[0m\u001b[0;34m\u001b[0m\u001b[0m\n\u001b[0m\u001b[1;32m      2\u001b[0m \u001b[0;32mwith\u001b[0m \u001b[0mtf\u001b[0m\u001b[0;34m.\u001b[0m\u001b[0mname_scope\u001b[0m\u001b[0;34m(\u001b[0m\u001b[0;34m\"dnn\"\u001b[0m\u001b[0;34m)\u001b[0m\u001b[0;34m:\u001b[0m\u001b[0;34m\u001b[0m\u001b[0;34m\u001b[0m\u001b[0m\n\u001b[1;32m      3\u001b[0m     \u001b[0mhidden1\u001b[0m \u001b[0;34m=\u001b[0m \u001b[0mneuron_layer\u001b[0m\u001b[0;34m(\u001b[0m\u001b[0mX\u001b[0m\u001b[0;34m,\u001b[0m \u001b[0mn_hidden1\u001b[0m\u001b[0;34m,\u001b[0m \u001b[0;34m\"hidden1\"\u001b[0m\u001b[0;34m,\u001b[0m \u001b[0mactivation\u001b[0m\u001b[0;34m=\u001b[0m\u001b[0;34m\"relu\"\u001b[0m\u001b[0;34m)\u001b[0m\u001b[0;34m\u001b[0m\u001b[0;34m\u001b[0m\u001b[0m\n\u001b[1;32m      4\u001b[0m     \u001b[0mhidden2\u001b[0m \u001b[0;34m=\u001b[0m \u001b[0mneuron_layer\u001b[0m\u001b[0;34m(\u001b[0m\u001b[0mhidden1\u001b[0m\u001b[0;34m,\u001b[0m \u001b[0mn_hidden2\u001b[0m\u001b[0;34m,\u001b[0m \u001b[0;34m\"hidden2\"\u001b[0m\u001b[0;34m,\u001b[0m \u001b[0mactivation\u001b[0m\u001b[0;34m=\u001b[0m\u001b[0;34m\"relu\"\u001b[0m\u001b[0;34m)\u001b[0m\u001b[0;34m\u001b[0m\u001b[0;34m\u001b[0m\u001b[0m\n\u001b[1;32m      5\u001b[0m \u001b[0mlogits\u001b[0m \u001b[0;34m=\u001b[0m \u001b[0mneuron_layer\u001b[0m\u001b[0;34m(\u001b[0m\u001b[0mhidden2\u001b[0m\u001b[0;34m,\u001b[0m \u001b[0mn_outputs\u001b[0m\u001b[0;34m,\u001b[0m \u001b[0;34m\"outputs\"\u001b[0m\u001b[0;34m)\u001b[0m\u001b[0;34m\u001b[0m\u001b[0;34m\u001b[0m\u001b[0m\n",
      "\u001b[0;31mModuleNotFoundError\u001b[0m: No module named 'tensorflow'"
     ]
    }
   ],
   "source": [
    "import tensorflow as tf\n",
    "with tf.name_scope(\"dnn\"):\n",
    "    hidden1 = neuron_layer(X, n_hidden1, \"hidden1\", activation=\"relu\") \n",
    "    hidden2 = neuron_layer(hidden1, n_hidden2, \"hidden2\", activation=\"relu\") \n",
    "logits = neuron_layer(hidden2, n_outputs, \"outputs\")"
   ]
  },
  {
   "cell_type": "markdown",
   "metadata": {
    "slideshow": {
     "slide_type": "slide"
    }
   },
   "source": [
    "<h1 style='text-align:center'>\n",
    "    References\n",
    "</h1>\n",
    "\n",
    "https://www.oreilly.com/library/view/hands-on-machine-learning/9781491962282/\n"
   ]
  },
  {
   "cell_type": "code",
   "execution_count": null,
   "metadata": {},
   "outputs": [],
   "source": []
  }
 ],
 "metadata": {
  "celltoolbar": "Slideshow",
  "kernelspec": {
   "display_name": "Python 3",
   "language": "python",
   "name": "python3"
  },
  "language_info": {
   "codemirror_mode": {
    "name": "ipython",
    "version": 3
   },
   "file_extension": ".py",
   "mimetype": "text/x-python",
   "name": "python",
   "nbconvert_exporter": "python",
   "pygments_lexer": "ipython3",
   "version": "3.7.3"
  },
  "varInspector": {
   "cols": {
    "lenName": 16,
    "lenType": 16,
    "lenVar": 40
   },
   "kernels_config": {
    "python": {
     "delete_cmd_postfix": "",
     "delete_cmd_prefix": "del ",
     "library": "var_list.py",
     "varRefreshCmd": "print(var_dic_list())"
    },
    "r": {
     "delete_cmd_postfix": ") ",
     "delete_cmd_prefix": "rm(",
     "library": "var_list.r",
     "varRefreshCmd": "cat(var_dic_list()) "
    }
   },
   "types_to_exclude": [
    "module",
    "function",
    "builtin_function_or_method",
    "instance",
    "_Feature"
   ],
   "window_display": false
  }
 },
 "nbformat": 4,
 "nbformat_minor": 2
}
